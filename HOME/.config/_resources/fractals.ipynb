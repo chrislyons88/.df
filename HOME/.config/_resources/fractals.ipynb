{
 "cells": [
  {
   "cell_type": "code",
   "execution_count": 1,
   "id": "f12d2f91-2846-4c81-bdec-1bbabe74135f",
   "metadata": {
    "collapsed": false,
    "jupyter": {
     "outputs_hidden": false,
     "source_hidden": false
    }
   },
   "outputs": [
    {
     "ename": "ModuleNotFoundError",
     "evalue": "No module named 'numpy'",
     "output_type": "error",
     "traceback": [
      "\u001b[38;5;253m  File \u001b[39m\u001b[38;5;208m\"<input_1>\"\u001b[39m\u001b[38;5;253m, line \u001b[39m\u001b[38;5;174m1\u001b[39m\u001b[38;5;253m, in \u001b[39m\u001b[38;5;253m<module>\u001b[39m",
      "\u001b[38;5;253m    \u001b[39m\u001b[38;5;203mimport\u001b[39m\u001b[38;5;253m \u001b[39m\u001b[38;5;108mnumpy\u001b[39m\u001b[38;5;253m \u001b[39m\u001b[38;5;203mas\u001b[39m\u001b[38;5;253m \u001b[39m\u001b[38;5;108mnp\u001b[39m",
      "\u001b[38;5;203mModuleNotFoundError\u001b[39m\u001b[38;5;253m: \u001b[39m\u001b[38;5;253mNo module named 'numpy'\u001b[39m"
     ]
    }
   ],
   "source": [
    "import numpy as np\n",
    "import matplotlib.pyplot as plt\n",
    "\n",
    "# Define the function to generate Mandelbrot set\n",
    "def mandelbrot(c, max_iter):\n",
    "    z = 0\n",
    "    n = 0\n",
    "    while abs(z) <= 2 and n < max_iter:\n",
    "        z = z*z + c\n",
    "        n += 1\n",
    "    return n\n",
    "\n",
    "# Create a grid of complex numbers\n",
    "width, height = 800, 800\n",
    "max_iter = 256\n",
    "x_min, x_max = -2.0, 1.0\n",
    "y_min, y_max = -1.5, 1.5\n",
    "\n",
    "# Generate 2D grid of complex numbers\n",
    "reals = np.linspace(x_min, x_max, width)\n",
    "imags = np.linspace(y_min, y_max, height)\n",
    "C = np.array([[complex(r, i) for r in reals] for i in imags])\n",
    "\n",
    "# Generate the Mandelbrot set\n",
    "Mandelbrot_set = np.array([[mandelbrot(c, max_iter) for c in row] for row in C])\n",
    "\n",
    "# Plot the Mandelbrot set\n",
    "plt.figure(figsize=(10, 10))\n",
    "plt.imshow(Mandelbrot_set, cmap='hot', extent=(x_min, x_max, y_min, y_max))\n",
    "plt.colorbar()\n",
    "plt.title('Mandelbrot Set')\n",
    "plt.show()\n"
   ]
  },
  {
   "cell_type": "code",
   "execution_count": null,
   "id": "cc954f8c-b73a-4911-8612-84852711058f",
   "metadata": {
    "collapsed": false,
    "jupyter": {
     "outputs_hidden": false
    }
   },
   "outputs": [],
   "source": []
  },
  {
   "cell_type": "code",
   "execution_count": null,
   "id": "e8ab8423-bff6-45ed-8829-4a550eb392dd",
   "metadata": {
    "collapsed": false,
    "jupyter": {
     "outputs_hidden": false
    }
   },
   "outputs": [],
   "source": []
  }
 ],
 "metadata": {
  "kernelspec": {
   "display_name": "Local Python",
   "language": "python",
   "name": "local-python"
  },
  "language_info": {
   "codemirror_mode": {
    "name": "python",
    "version": 3
   },
   "file_extension": ".py",
   "mimetype": "text/x-python",
   "name": "python",
   "nbconvert_exporter": "python",
   "pygments_lexer": "python3",
   "version": "3.12.12"
  },
  "widgets": {
   "application/vnd.jupyter.widget-state+json": {
    "state": {},
    "version_major": 2,
    "version_minor": 0
   }
  }
 },
 "nbformat": 4,
 "nbformat_minor": 5
}
