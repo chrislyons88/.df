{
 "cells": [
  {
   "cell_type": "code",
   "execution_count": null,
   "id": "8b31fc28-49a9-4b19-977c-5845a6ffee08",
   "metadata": {},
   "outputs": [],
   "source": [
    "import matplotlib.pyplot as plt\n",
    "import numpy as np\n",
    "\n",
    "# Generate some example data\n",
    "np.random.seed(0)\n",
    "x = np.arange(1, 11)\n",
    "\n",
    "# Create two y datasets to show different coefficients\n",
    "y1 = 2 * x  # lower coefficient\n",
    "y2 = 5 * x  # higher coefficient\n",
    "\n",
    "# Create datasets with different variances\n",
    "mean = 50\n",
    "low_variance = np.random.normal(mean, 2, 100)\n",
    "high_variance = np.random.normal(mean, 15, 100)\n",
    "\n",
    "# Create the figure and axes\n",
    "fig, axs = plt.subplots(1, 2, figsize=(14, 5))\n",
    "\n",
    "# Plotting coefficients example\n",
    "axs[0].plot(x, y1, label='y = 2x', marker='o')\n",
    "axs[0].plot(x, y2, label='y = 5x', marker='o')\n",
    "axs[0].set_title('Effect of Different Coefficients')\n",
    "axs[0].set_xlabel('x')\n",
    "axs[0].set_ylabel('y')\n",
    "axs[0].legend()\n",
    "axs[0].grid(True)\n",
    "\n",
    "# Plotting variance example\n",
    "axs[1].hist(low_variance, bins=15, alpha=0.7, label='Low Variance', color='skyblue')\n",
    "axs[1].hist(high_variance, bins=15, alpha=0.7, label='High Variance', color='salmon')\n",
    "axs[1].set_title('Low vs High Variance')\n",
    "axs[1].set_xlabel('Value')\n",
    "axs[1].set_ylabel('Frequency')\n",
    "axs[1].legend()\n",
    "axs[1].grid(True)\n",
    "\n",
    "plt.tight_layout()\n",
    "plt.show()\n"
   ]
  },
  {
   "cell_type": "code",
   "execution_count": null,
   "id": "fff29af6-736a-4840-9e00-57acf33048c6",
   "metadata": {},
   "outputs": [],
   "source": []
  }
 ],
 "metadata": {
  "kernelspec": {
   "display_name": "Python 3 (ipykernel)",
   "language": "python",
   "name": "python3"
  },
  "language_info": {
   "name": ""
  }
 },
 "nbformat": 4,
 "nbformat_minor": 5
}
